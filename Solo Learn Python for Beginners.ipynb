{
 "cells": [
  {
   "cell_type": "code",
   "execution_count": 1,
   "metadata": {},
   "outputs": [
    {
     "name": "stdout",
     "output_type": "stream",
     "text": [
      "The number of seconds in a month are 2592000\n"
     ]
    }
   ],
   "source": [
    "#Seconds in a month\n",
    "x = 30 * 24 * 60 * 60 \n",
    "print(\"The number of seconds in a month are {}\".format(x))"
   ]
  },
  {
   "cell_type": "code",
   "execution_count": 3,
   "metadata": {},
   "outputs": [
    {
     "name": "stdout",
     "output_type": "stream",
     "text": [
      "The number of hours in 888 minutes are 14 and the minutes are 48\n"
     ]
    }
   ],
   "source": [
    "# Hour and minutes in 888 minutes \n",
    "y = 888// 60\n",
    "z = 888 % 60\n",
    "print(\"The number of hours in 888 minutes are {} and the minutes are {}\".format(y, z))"
   ]
  },
  {
   "cell_type": "markdown",
   "metadata": {},
   "source": [
    "You need to calculate the flight time of an upcoming trip. You are flying from LA to Sydney, covering a distance of 7425 miles, the plane flies at an average speed of 550 miles an hour.\n",
    "\n",
    "Calculate and output the total flight time in hours."
   ]
  },
  {
   "cell_type": "code",
   "execution_count": 6,
   "metadata": {},
   "outputs": [
    {
     "name": "stdout",
     "output_type": "stream",
     "text": [
      "The total flight time in hours are 13.5 hours\n"
     ]
    }
   ],
   "source": [
    "# Flight time\n",
    "x = 7425 / 550\n",
    "print(\"The total flight time in hours are {} hours\".format(x))"
   ]
  },
  {
   "cell_type": "markdown",
   "metadata": {},
   "source": [
    "You need to make a program for a leaderboard.\n",
    "The program needs to output the numbers 1 to 9, each on a separate line, followed by a dot:"
   ]
  },
  {
   "cell_type": "code",
   "execution_count": 19,
   "metadata": {},
   "outputs": [
    {
     "name": "stdout",
     "output_type": "stream",
     "text": [
      "1.\n",
      "2.\n",
      "3.\n",
      "4.\n",
      "5.\n",
      "6.\n",
      "7.\n",
      "8.\n",
      "9.\n"
     ]
    }
   ],
   "source": [
    "# Leader Board\n",
    "for i in range(1, 10):\n",
    "    print(str(i) + str(\".\"))\n"
   ]
  },
  {
   "cell_type": "code",
   "execution_count": 23,
   "metadata": {},
   "outputs": [
    {
     "name": "stdout",
     "output_type": "stream",
     "text": [
      "1.\n",
      " 2.\n",
      " 3.\n",
      " 4.\n",
      " 5.\n",
      " 6.\n",
      " 7.\n",
      " 8.\n",
      " 9.\n"
     ]
    }
   ],
   "source": [
    "print(\"1.\\n 2.\\n 3.\\n 4.\\n 5.\\n 6.\\n 7.\\n 8.\\n 9.\")"
   ]
  },
  {
   "cell_type": "markdown",
   "metadata": {},
   "source": [
    "Tip Calculator\n",
    "\n",
    "\n",
    "When you go out to eat, you always tip 20% of the bill amount. But who’s got the time to calculate the right tip amount every time? Not you that’s for sure! You’re making a program to calculate tips and save some time.\n",
    "\n",
    "Your program needs to take the bill amount as input and output the tip as a float"
   ]
  },
  {
   "cell_type": "code",
   "execution_count": 27,
   "metadata": {},
   "outputs": [
    {
     "name": "stdout",
     "output_type": "stream",
     "text": [
      "50\n",
      "Your suggested tip is 10.0\n"
     ]
    }
   ],
   "source": [
    "# Tip function\n",
    "def tip_calculator(x):\n",
    "    return 0.2* x\n",
    "\n",
    "bill = int(input())\n",
    "tip = tip_calculator(bill)\n",
    "print(\"Your suggested tip is {}\".format(tip))\n"
   ]
  },
  {
   "cell_type": "markdown",
   "metadata": {},
   "source": [
    "### Nested If statement"
   ]
  },
  {
   "cell_type": "code",
   "execution_count": 29,
   "metadata": {},
   "outputs": [
    {
     "name": "stdout",
     "output_type": "stream",
     "text": [
      "3\n"
     ]
    }
   ],
   "source": [
    "num = 7\n",
    "if num > 3:\n",
    "   print(\"3\")\n",
    "   if num < 5:\n",
    "      print(\"5\")\n",
    "      if num ==7:\n",
    "         print(\"7\")"
   ]
  },
  {
   "cell_type": "markdown",
   "metadata": {},
   "source": [
    "### If Else Statement"
   ]
  },
  {
   "cell_type": "code",
   "execution_count": 30,
   "metadata": {},
   "outputs": [
    {
     "name": "stdout",
     "output_type": "stream",
     "text": [
      "No\n"
     ]
    }
   ],
   "source": [
    "x = 4\n",
    "if x > 5:\n",
    "    print(\"Yes\")\n",
    "else :\n",
    "    print(\"No\")\n",
    "    "
   ]
  },
  {
   "cell_type": "code",
   "execution_count": 31,
   "metadata": {},
   "outputs": [
    {
     "name": "stdout",
     "output_type": "stream",
     "text": [
      "Three\n"
     ]
    }
   ],
   "source": [
    "num = 3\n",
    "if num ==1:\n",
    "    print(\"One\")\n",
    "else:\n",
    "    if num ==2:\n",
    "        print(\"Two\")\n",
    "    else:\n",
    "        if num ==3:\n",
    "            print(\"Three\")\n",
    "        else:\n",
    "            print(\"Something else\")"
   ]
  },
  {
   "cell_type": "code",
   "execution_count": 32,
   "metadata": {},
   "outputs": [
    {
     "name": "stdout",
     "output_type": "stream",
     "text": [
      "Three\n"
     ]
    }
   ],
   "source": [
    "num = 3\n",
    "if num ==1:\n",
    "    print(\"One\")\n",
    "elif num ==2:\n",
    "    print(\"Two\")\n",
    "else:\n",
    "    print(\"Three\")"
   ]
  },
  {
   "cell_type": "markdown",
   "metadata": {},
   "source": [
    "### While Loop"
   ]
  },
  {
   "cell_type": "code",
   "execution_count": 39,
   "metadata": {},
   "outputs": [
    {
     "name": "stdout",
     "output_type": "stream",
     "text": [
      "1\n",
      "3\n",
      "5\n"
     ]
    }
   ],
   "source": [
    "i =1\n",
    "while i <= 5:\n",
    "    print(i)\n",
    "    i = i +2"
   ]
  },
  {
   "cell_type": "code",
   "execution_count": 40,
   "metadata": {},
   "outputs": [
    {
     "name": "stdout",
     "output_type": "stream",
     "text": [
      "3\n",
      "2\n",
      "1\n",
      "0\n"
     ]
    }
   ],
   "source": [
    "i =3\n",
    "while i >= 0:\n",
    "    print(i)\n",
    "    i = i -1"
   ]
  },
  {
   "cell_type": "code",
   "execution_count": 2,
   "metadata": {},
   "outputs": [
    {
     "name": "stdout",
     "output_type": "stream",
     "text": [
      "1 is odd\n",
      "2 is even\n",
      "3 is odd\n",
      "4 is even\n",
      "5 is odd\n",
      "6 is even\n",
      "7 is odd\n",
      "8 is even\n",
      "9 is odd\n"
     ]
    }
   ],
   "source": [
    "x =1\n",
    "while x < 10:\n",
    "    if x %2 ==0:\n",
    "        print(str(x) + \" \"+ \"is even\")\n",
    "    else:\n",
    "        print(str(x) + \" \" + \"is odd\")\n",
    "    x +=1\n"
   ]
  },
  {
   "cell_type": "code",
   "execution_count": 5,
   "metadata": {},
   "outputs": [
    {
     "name": "stdout",
     "output_type": "stream",
     "text": [
      "0\n",
      "1\n",
      "2\n",
      "3\n",
      "4\n",
      "Breaking\n"
     ]
    }
   ],
   "source": [
    "i = 0\n",
    "while True:\n",
    "    print(i)\n",
    "    i += 1\n",
    "    if i >= 5:\n",
    "        print(\"Breaking\")\n",
    "        break"
   ]
  },
  {
   "cell_type": "code",
   "execution_count": 6,
   "metadata": {},
   "outputs": [
    {
     "name": "stdout",
     "output_type": "stream",
     "text": [
      "1\n",
      "2\n",
      "Skipping 3\n",
      "3\n",
      "4\n",
      "5\n"
     ]
    }
   ],
   "source": [
    "i = 1\n",
    "while i <= 5:\n",
    "    print(i)\n",
    "    i += 1\n",
    "    if i ==3:\n",
    "        print(\"Skipping 3\")\n",
    "        continue"
   ]
  },
  {
   "cell_type": "code",
   "execution_count": 7,
   "metadata": {},
   "outputs": [
    {
     "name": "stdout",
     "output_type": "stream",
     "text": [
      "6\n"
     ]
    }
   ],
   "source": [
    "i = 0\n",
    "x = 0\n",
    "while i < 4:\n",
    "    x+=i\n",
    "    i+=1\n",
    "\n",
    "print(x)\n"
   ]
  },
  {
   "cell_type": "markdown",
   "metadata": {},
   "source": [
    "### BMI Calculator\n",
    "\n",
    "\n",
    "Tracking your BMI is a useful way of checking if you’re maintaining a healthy weight. It’s calculated using a person's weight and height, using this formula: weight / height²\n",
    "\n",
    "The resulting number indicates one of the following categories: \n",
    "Underweight = less than 18.5 \n",
    "Normal = more or equal to 18.5 and less than 25 \n",
    "Overweight = more or equal to 25 and less than 30\n",
    "Obesity = 30 or more"
   ]
  },
  {
   "cell_type": "code",
   "execution_count": 19,
   "metadata": {},
   "outputs": [
    {
     "name": "stdout",
     "output_type": "stream",
     "text": [
      "65\n",
      "1.75\n",
      "Normal\n"
     ]
    }
   ],
   "source": [
    "# Calculation function\n",
    "def bmi_calc(x, y):\n",
    "    z= x/ (y**2)\n",
    "    #return z\n",
    "    if z < 18.5:\n",
    "        print(\"Underweight\")\n",
    "    elif z >= 18.5 and z < 25:\n",
    "        print(\"Normal\")\n",
    "    elif z >= 25 and z < 30:\n",
    "        print(\"Overweight\")\n",
    "    else:\n",
    "        print(\"Obesity\")\n",
    "\n",
    "#your code goes here\n",
    "weight = float(input())\n",
    "height = float(input())\n",
    "bmi_calc(weight, height)"
   ]
  },
  {
   "cell_type": "code",
   "execution_count": null,
   "metadata": {},
   "outputs": [],
   "source": []
  }
 ],
 "metadata": {
  "kernelspec": {
   "display_name": "Python 3",
   "language": "python",
   "name": "python3"
  },
  "language_info": {
   "codemirror_mode": {
    "name": "ipython",
    "version": 3
   },
   "file_extension": ".py",
   "mimetype": "text/x-python",
   "name": "python",
   "nbconvert_exporter": "python",
   "pygments_lexer": "ipython3",
   "version": "3.8.5"
  }
 },
 "nbformat": 4,
 "nbformat_minor": 4
}
